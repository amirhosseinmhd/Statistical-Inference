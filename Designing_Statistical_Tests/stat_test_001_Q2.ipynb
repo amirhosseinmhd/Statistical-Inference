{
  "nbformat": 4,
  "nbformat_minor": 0,
  "metadata": {
    "colab": {
      "name": "Homework3_SI_Q2.ipynb",
      "provenance": [],
      "collapsed_sections": []
    },
    "kernelspec": {
      "name": "ir",
      "display_name": "R"
    },
    "language_info": {
      "name": "R"
    }
  },
  "cells": [
    {
      "cell_type": "code",
      "source": [
        "install.packages(\"ggpubr\")"
      ],
      "metadata": {
        "colab": {
          "base_uri": "https://localhost:8080/"
        },
        "id": "A5hiVRcugWOO",
        "outputId": "9512fabf-5763-4774-da20-97abea24c26c"
      },
      "execution_count": 5,
      "outputs": [
        {
          "output_type": "stream",
          "name": "stderr",
          "text": [
            "Installing package into ‘/usr/local/lib/R/site-library’\n",
            "(as ‘lib’ is unspecified)\n",
            "\n",
            "also installing the dependencies ‘numDeriv’, ‘SparseM’, ‘MatrixModels’, ‘sp’, ‘minqa’, ‘nloptr’, ‘RcppEigen’, ‘carData’, ‘abind’, ‘pbkrtest’, ‘quantreg’, ‘maptools’, ‘lme4’, ‘Rcpp’, ‘corrplot’, ‘car’, ‘ggrepel’, ‘ggsci’, ‘cowplot’, ‘ggsignif’, ‘gridExtra’, ‘polynom’, ‘rstatix’\n",
            "\n",
            "\n"
          ]
        }
      ]
    },
    {
      "cell_type": "code",
      "source": [
        "library(dplyr)\n",
        "library(ggplot2)\n",
        "library(ggpubr)\n",
        "library(tidyverse)\n",
        "library(broom)\n"
      ],
      "metadata": {
        "id": "kndvue6QgLW1"
      },
      "execution_count": 10,
      "outputs": []
    },
    {
      "cell_type": "code",
      "execution_count": 3,
      "metadata": {
        "colab": {
          "base_uri": "https://localhost:8080/",
          "height": 633
        },
        "id": "Y3Zw5CCnf19t",
        "outputId": "37d3cf31-255c-4092-9ece-287ef70640cc"
      },
      "outputs": [
        {
          "output_type": "display_data",
          "data": {
            "text/html": [
              "<table class=\"dataframe\">\n",
              "<caption>A data.frame: 6 × 7</caption>\n",
              "<thead>\n",
              "\t<tr><th></th><th scope=col>Person</th><th scope=col>gender</th><th scope=col>Age</th><th scope=col>Height</th><th scope=col>pre.weight</th><th scope=col>Diet</th><th scope=col>weight6weeks</th></tr>\n",
              "\t<tr><th></th><th scope=col>&lt;int&gt;</th><th scope=col>&lt;int&gt;</th><th scope=col>&lt;int&gt;</th><th scope=col>&lt;int&gt;</th><th scope=col>&lt;int&gt;</th><th scope=col>&lt;int&gt;</th><th scope=col>&lt;dbl&gt;</th></tr>\n",
              "</thead>\n",
              "<tbody>\n",
              "\t<tr><th scope=row>1</th><td>25</td><td>NA</td><td>41</td><td>171</td><td> 60</td><td>2</td><td> 60.0</td></tr>\n",
              "\t<tr><th scope=row>2</th><td>26</td><td>NA</td><td>32</td><td>174</td><td>103</td><td>2</td><td>103.0</td></tr>\n",
              "\t<tr><th scope=row>3</th><td> 1</td><td> 0</td><td>22</td><td>159</td><td> 58</td><td>1</td><td> 54.2</td></tr>\n",
              "\t<tr><th scope=row>4</th><td> 2</td><td> 0</td><td>46</td><td>192</td><td> 60</td><td>1</td><td> 54.0</td></tr>\n",
              "\t<tr><th scope=row>5</th><td> 3</td><td> 0</td><td>55</td><td>170</td><td> 64</td><td>1</td><td> 63.3</td></tr>\n",
              "\t<tr><th scope=row>6</th><td> 4</td><td> 0</td><td>33</td><td>171</td><td> 64</td><td>1</td><td> 61.1</td></tr>\n",
              "</tbody>\n",
              "</table>\n"
            ],
            "text/markdown": "\nA data.frame: 6 × 7\n\n| <!--/--> | Person &lt;int&gt; | gender &lt;int&gt; | Age &lt;int&gt; | Height &lt;int&gt; | pre.weight &lt;int&gt; | Diet &lt;int&gt; | weight6weeks &lt;dbl&gt; |\n|---|---|---|---|---|---|---|---|\n| 1 | 25 | NA | 41 | 171 |  60 | 2 |  60.0 |\n| 2 | 26 | NA | 32 | 174 | 103 | 2 | 103.0 |\n| 3 |  1 |  0 | 22 | 159 |  58 | 1 |  54.2 |\n| 4 |  2 |  0 | 46 | 192 |  60 | 1 |  54.0 |\n| 5 |  3 |  0 | 55 | 170 |  64 | 1 |  63.3 |\n| 6 |  4 |  0 | 33 | 171 |  64 | 1 |  61.1 |\n\n",
            "text/latex": "A data.frame: 6 × 7\n\\begin{tabular}{r|lllllll}\n  & Person & gender & Age & Height & pre.weight & Diet & weight6weeks\\\\\n  & <int> & <int> & <int> & <int> & <int> & <int> & <dbl>\\\\\n\\hline\n\t1 & 25 & NA & 41 & 171 &  60 & 2 &  60.0\\\\\n\t2 & 26 & NA & 32 & 174 & 103 & 2 & 103.0\\\\\n\t3 &  1 &  0 & 22 & 159 &  58 & 1 &  54.2\\\\\n\t4 &  2 &  0 & 46 & 192 &  60 & 1 &  54.0\\\\\n\t5 &  3 &  0 & 55 & 170 &  64 & 1 &  63.3\\\\\n\t6 &  4 &  0 & 33 & 171 &  64 & 1 &  61.1\\\\\n\\end{tabular}\n",
            "text/plain": [
              "  Person gender Age Height pre.weight Diet weight6weeks\n",
              "1 25     NA     41  171     60        2     60.0       \n",
              "2 26     NA     32  174    103        2    103.0       \n",
              "3  1      0     22  159     58        1     54.2       \n",
              "4  2      0     46  192     60        1     54.0       \n",
              "5  3      0     55  170     64        1     63.3       \n",
              "6  4      0     33  171     64        1     61.1       "
            ]
          },
          "metadata": {}
        },
        {
          "output_type": "display_data",
          "data": {
            "text/plain": [
              "     Person          gender            Age            Height     \n",
              " Min.   : 1.00   Min.   :0.0000   Min.   :16.00   Min.   :141.0  \n",
              " 1st Qu.:20.25   1st Qu.:0.0000   1st Qu.:32.25   1st Qu.:164.2  \n",
              " Median :39.50   Median :0.0000   Median :39.00   Median :169.5  \n",
              " Mean   :39.50   Mean   :0.4342   Mean   :39.15   Mean   :170.8  \n",
              " 3rd Qu.:58.75   3rd Qu.:1.0000   3rd Qu.:46.75   3rd Qu.:174.8  \n",
              " Max.   :78.00   Max.   :1.0000   Max.   :60.00   Max.   :201.0  \n",
              "                 NA's   :2                                       \n",
              "   pre.weight          Diet        weight6weeks   \n",
              " Min.   : 58.00   Min.   :1.000   Min.   : 53.00  \n",
              " 1st Qu.: 66.00   1st Qu.:1.000   1st Qu.: 61.85  \n",
              " Median : 72.00   Median :2.000   Median : 68.95  \n",
              " Mean   : 72.53   Mean   :2.038   Mean   : 68.68  \n",
              " 3rd Qu.: 78.00   3rd Qu.:3.000   3rd Qu.: 73.83  \n",
              " Max.   :103.00   Max.   :3.000   Max.   :103.00  \n",
              "                                                  "
            ]
          },
          "metadata": {}
        },
        {
          "output_type": "display_data",
          "data": {
            "text/html": [
              "<style>\n",
              ".list-inline {list-style: none; margin:0; padding: 0}\n",
              ".list-inline>li {display: inline-block}\n",
              ".list-inline>li:not(:last-child)::after {content: \"\\00b7\"; padding: 0 .5ex}\n",
              "</style>\n",
              "<ol class=list-inline><li>0</li><li>0</li><li>3.8</li><li>6</li><li>0.700000000000003</li><li>2.9</li><li>2.8</li><li>2</li><li>2</li><li>8.5</li><li>1.90000000000001</li><li>3.09999999999999</li><li>1.5</li><li>3</li><li>3.59999999999999</li><li>0.900000000000006</li><li>-2.1</li><li>2</li><li>1.7</li><li>4.3</li><li>7</li><li>0.600000000000001</li><li>2.7</li><li>3.6</li><li>3</li><li>2</li><li>4.2</li><li>4.7</li><li>3.3</li><li>-0.5</li><li>7</li><li>5.6</li><li>3.4</li><li>6.8</li><li>7.8</li><li>5.4</li><li>6.8</li><li>7.2</li><li>7</li><li>7.3</li><li>0.900000000000006</li><li>7.59999999999999</li><li>4.09999999999999</li><li>6.3</li><li>5</li><li>-0.599999999999994</li><li>1.09999999999999</li><li>4.5</li><li>4.09999999999999</li><li>9</li><li>2.40000000000001</li><li>3.90000000000001</li><li>3.5</li><li>5.09999999999999</li><li>3.5</li><li>4.2</li><li>2.40000000000001</li><li>5.8</li><li>3.5</li><li>5.3</li><li>1.7</li><li>5.40000000000001</li><li>6.09999999999999</li><li>7.90000000000001</li><li>-1.40000000000001</li><li>4.3</li><li>2.5</li><li>0.900000000000006</li><li>3.5</li><li>0.5</li><li>2.8</li><li>8.59999999999999</li><li>4.5</li><li>2.8</li><li>4.09999999999999</li><li>5.3</li><li>9.2</li><li>6.09999999999999</li></ol>\n"
            ],
            "text/markdown": "1. 0\n2. 0\n3. 3.8\n4. 6\n5. 0.700000000000003\n6. 2.9\n7. 2.8\n8. 2\n9. 2\n10. 8.5\n11. 1.90000000000001\n12. 3.09999999999999\n13. 1.5\n14. 3\n15. 3.59999999999999\n16. 0.900000000000006\n17. -2.1\n18. 2\n19. 1.7\n20. 4.3\n21. 7\n22. 0.600000000000001\n23. 2.7\n24. 3.6\n25. 3\n26. 2\n27. 4.2\n28. 4.7\n29. 3.3\n30. -0.5\n31. 7\n32. 5.6\n33. 3.4\n34. 6.8\n35. 7.8\n36. 5.4\n37. 6.8\n38. 7.2\n39. 7\n40. 7.3\n41. 0.900000000000006\n42. 7.59999999999999\n43. 4.09999999999999\n44. 6.3\n45. 5\n46. -0.599999999999994\n47. 1.09999999999999\n48. 4.5\n49. 4.09999999999999\n50. 9\n51. 2.40000000000001\n52. 3.90000000000001\n53. 3.5\n54. 5.09999999999999\n55. 3.5\n56. 4.2\n57. 2.40000000000001\n58. 5.8\n59. 3.5\n60. 5.3\n61. 1.7\n62. 5.40000000000001\n63. 6.09999999999999\n64. 7.90000000000001\n65. -1.40000000000001\n66. 4.3\n67. 2.5\n68. 0.900000000000006\n69. 3.5\n70. 0.5\n71. 2.8\n72. 8.59999999999999\n73. 4.5\n74. 2.8\n75. 4.09999999999999\n76. 5.3\n77. 9.2\n78. 6.09999999999999\n\n\n",
            "text/latex": "\\begin{enumerate*}\n\\item 0\n\\item 0\n\\item 3.8\n\\item 6\n\\item 0.700000000000003\n\\item 2.9\n\\item 2.8\n\\item 2\n\\item 2\n\\item 8.5\n\\item 1.90000000000001\n\\item 3.09999999999999\n\\item 1.5\n\\item 3\n\\item 3.59999999999999\n\\item 0.900000000000006\n\\item -2.1\n\\item 2\n\\item 1.7\n\\item 4.3\n\\item 7\n\\item 0.600000000000001\n\\item 2.7\n\\item 3.6\n\\item 3\n\\item 2\n\\item 4.2\n\\item 4.7\n\\item 3.3\n\\item -0.5\n\\item 7\n\\item 5.6\n\\item 3.4\n\\item 6.8\n\\item 7.8\n\\item 5.4\n\\item 6.8\n\\item 7.2\n\\item 7\n\\item 7.3\n\\item 0.900000000000006\n\\item 7.59999999999999\n\\item 4.09999999999999\n\\item 6.3\n\\item 5\n\\item -0.599999999999994\n\\item 1.09999999999999\n\\item 4.5\n\\item 4.09999999999999\n\\item 9\n\\item 2.40000000000001\n\\item 3.90000000000001\n\\item 3.5\n\\item 5.09999999999999\n\\item 3.5\n\\item 4.2\n\\item 2.40000000000001\n\\item 5.8\n\\item 3.5\n\\item 5.3\n\\item 1.7\n\\item 5.40000000000001\n\\item 6.09999999999999\n\\item 7.90000000000001\n\\item -1.40000000000001\n\\item 4.3\n\\item 2.5\n\\item 0.900000000000006\n\\item 3.5\n\\item 0.5\n\\item 2.8\n\\item 8.59999999999999\n\\item 4.5\n\\item 2.8\n\\item 4.09999999999999\n\\item 5.3\n\\item 9.2\n\\item 6.09999999999999\n\\end{enumerate*}\n",
            "text/plain": [
              " [1]  0.0  0.0  3.8  6.0  0.7  2.9  2.8  2.0  2.0  8.5  1.9  3.1  1.5  3.0  3.6\n",
              "[16]  0.9 -2.1  2.0  1.7  4.3  7.0  0.6  2.7  3.6  3.0  2.0  4.2  4.7  3.3 -0.5\n",
              "[31]  7.0  5.6  3.4  6.8  7.8  5.4  6.8  7.2  7.0  7.3  0.9  7.6  4.1  6.3  5.0\n",
              "[46] -0.6  1.1  4.5  4.1  9.0  2.4  3.9  3.5  5.1  3.5  4.2  2.4  5.8  3.5  5.3\n",
              "[61]  1.7  5.4  6.1  7.9 -1.4  4.3  2.5  0.9  3.5  0.5  2.8  8.6  4.5  2.8  4.1\n",
              "[76]  5.3  9.2  6.1"
            ]
          },
          "metadata": {}
        }
      ],
      "source": [
        "data <- read.csv(file=\"stcp-Rdataset-Diet.csv\")\n",
        "head(data)\n",
        "summary(data)\n",
        "data_ = data %>%\n",
        "  mutate(weight_loss = pre.weight - weight6weeks)\n",
        "data_$weight_loss"
      ]
    },
    {
      "cell_type": "code",
      "source": [
        "data_$Diet = as.character(data_$Diet)\n",
        "ggplot(data = data_, mapping = aes(x = Diet, y = weight_loss) ) + \n",
        "  geom_boxplot(mapping = aes(fill = Diet) ) +\n",
        "  theme(legend.position=\"none\")+\n",
        "  labs(x = \"Diet\", y = \"Wieght Loss\", fill ='red', \n",
        "       title = \"Diet\") + \n",
        "  theme(plot.title = element_text(size=16,color=\"darkgreen\",face=\"bold\"),\n",
        "        axis.title.x = element_text(color = \"red\"),\n",
        "        axis.title.y = element_text(color = \"red\"))\n"
      ],
      "metadata": {
        "colab": {
          "base_uri": "https://localhost:8080/",
          "height": 437
        },
        "id": "3HOtRdeKgHSN",
        "outputId": "153e7d17-65c0-47a3-845e-eacd380ddce1"
      },
      "execution_count": 7,
      "outputs": [
        {
          "output_type": "display_data",
          "data": {
            "text/plain": [
              "plot without title"
            ],
            "image/png": "[encoded data removed]"
          },
          "metadata": {
            "image/png": {
              "width": 420,
              "height": 420
            }
          }
        }
      ]
    },
    {
      "cell_type": "code",
      "source": [
        "\n",
        "one.way <- aov( weight_loss ~ Diet, data = data_)\n",
        "\n",
        "summary(one.way)"
      ],
      "metadata": {
        "colab": {
          "base_uri": "https://localhost:8080/",
          "height": 104
        },
        "id": "k-1lhofbggN2",
        "outputId": "2286114c-4833-44af-fefd-7516b8a512a9"
      },
      "execution_count": 8,
      "outputs": [
        {
          "output_type": "display_data",
          "data": {
            "text/plain": [
              "            Df Sum Sq Mean Sq F value  Pr(>F)   \n",
              "Diet         2   71.1   35.55   6.197 0.00323 **\n",
              "Residuals   75  430.2    5.74                   \n",
              "---\n",
              "Signif. codes:  0 ‘***’ 0.001 ‘**’ 0.01 ‘*’ 0.05 ‘.’ 0.1 ‘ ’ 1"
            ]
          },
          "metadata": {}
        }
      ]
    },
    {
      "cell_type": "code",
      "source": [
        "diet_loss_mean = mean(data_$weight_loss)\n",
        "diet1_loss <- data_$weight_loss[data_$Diet == '1']\n",
        "diet2_loss <- data_$weight_loss[data_$Diet == '2']\n",
        "diet3_loss <- data_$weight_loss[data_$Diet == '3']\n",
        "\n",
        "diet1_loss_mean <- mean(diet1_loss)\n",
        "diet2_loss_mean <- mean(diet2_loss)\n",
        "diet3_loss_mean <- mean(diet3_loss)\n",
        "SSW1 <- sum((diet1_loss - diet1_loss_mean)**2)\n",
        "SSW2 <- sum((diet2_loss - diet2_loss_mean)**2)\n",
        "SSW3 <- sum((diet3_loss - diet3_loss_mean)**2)\n",
        "SSB1 <- (diet1_loss_mean - diet_loss_mean)**2*length(diet1_loss)\n",
        "SSB2 <- (diet2_loss_mean - diet_loss_mean)**2*length(diet2_loss)\n",
        "SSB3 <- (diet3_loss_mean - diet_loss_mean)**2*length(diet3_loss)\n",
        "\n",
        "sum_W <- SSW1 + SSW2 + SSW3\n",
        "SST <- sum((data_$weight_loss - diet_loss_mean)**2)\n",
        "ssb <- SST - sum_W\n",
        "sum_B <- SSB1 + SSB2 + SSB3\n",
        "\n",
        "ssb_df <- 3 -1\n",
        "ssw_df <- length(data_$weight_loss) - 3\n",
        "F_stat <- (sum_B/ssb_df)/(sum_W/ssw_df)\n",
        "F_stat"
      ],
      "metadata": {
        "colab": {
          "base_uri": "https://localhost:8080/",
          "height": 34
        },
        "id": "4RzJA2Voggmw",
        "outputId": "2bb84620-0737-4147-e12b-fa92e5f79332"
      },
      "execution_count": 9,
      "outputs": [
        {
          "output_type": "display_data",
          "data": {
            "text/html": [
              "6.19744745316535"
            ],
            "text/markdown": "6.19744745316535",
            "text/latex": "6.19744745316535",
            "text/plain": [
              "[1] 6.197447"
            ]
          },
          "metadata": {}
        }
      ]
    },
    {
      "cell_type": "markdown",
      "source": [
        "Results from R library and From scratch is same."
      ],
      "metadata": {
        "id": "YY5UmjwtlC6h"
      }
    },
    {
      "cell_type": "code",
      "source": [
        "pf(6.197,2,75,lower.tail=FALSE)"
      ],
      "metadata": {
        "colab": {
          "base_uri": "https://localhost:8080/",
          "height": 34
        },
        "id": "JDivwBwVkDND",
        "outputId": "10fbfeeb-645a-4d9d-a28e-0b1b112431fc"
      },
      "execution_count": 21,
      "outputs": [
        {
          "output_type": "display_data",
          "data": {
            "text/html": [
              "0.00323025440039902"
            ],
            "text/markdown": "0.00323025440039902",
            "text/latex": "0.00323025440039902",
            "text/plain": [
              "[1] 0.003230254"
            ]
          },
          "metadata": {}
        }
      ]
    },
    {
      "cell_type": "markdown",
      "source": [
        "As we can see our p value is below significance level therefor we reject null hypothesis."
      ],
      "metadata": {
        "id": "VBEGILJdltCa"
      }
    },
    {
      "cell_type": "code",
      "source": [
        "t.test(diet1_loss,diet2_loss, paired = FALSE, var.equal = FALSE,\n",
        "      conf.level = 0.95, alternative = c(\"two.sided\"))"
      ],
      "metadata": {
        "colab": {
          "base_uri": "https://localhost:8080/",
          "height": 208
        },
        "id": "lZ_oi_dLlrVv",
        "outputId": "79c858da-a4b0-401c-ed5c-0e2c97b68cfd"
      },
      "execution_count": 28,
      "outputs": [
        {
          "output_type": "display_data",
          "data": {
            "text/plain": [
              "\n",
              "\tWelch Two Sample t-test\n",
              "\n",
              "data:  diet1_loss and diet2_loss\n",
              "t = 0.41089, df = 49, p-value = 0.6829\n",
              "alternative hypothesis: true difference in means is not equal to 0\n",
              "95 percent confidence interval:\n",
              " -1.066364  1.614512\n",
              "sample estimates:\n",
              "mean of x mean of y \n",
              " 3.300000  3.025926 \n"
            ]
          },
          "metadata": {}
        }
      ]
    },
    {
      "cell_type": "code",
      "source": [
        "t.test(diet3_loss,diet2_loss, paired = FALSE, var.equal = FALSE,\n",
        "       conf.level = 0.95, alternative = \"two.sided\")"
      ],
      "metadata": {
        "colab": {
          "base_uri": "https://localhost:8080/",
          "height": 208
        },
        "id": "FPtL0mxUmet5",
        "outputId": "52a7b321-5502-4d57-9366-107065cac57e"
      },
      "execution_count": 35,
      "outputs": [
        {
          "output_type": "display_data",
          "data": {
            "text/plain": [
              "\n",
              "\tWelch Two Sample t-test\n",
              "\n",
              "data:  diet3_loss and diet2_loss\n",
              "t = 3.1693, df = 51.86, p-value = 0.002563\n",
              "alternative hypothesis: true difference in means is not equal to 0\n",
              "95 percent confidence interval:\n",
              " 0.778469 3.465975\n",
              "sample estimates:\n",
              "mean of x mean of y \n",
              " 5.148148  3.025926 \n"
            ]
          },
          "metadata": {}
        }
      ]
    },
    {
      "cell_type": "code",
      "source": [
        "t.test(diet1_loss,diet3_loss, paired = FALSE, var.equal = FALSE,\n",
        "       conf.level = 0.95, alternative = c(\"two.sided\"))"
      ],
      "metadata": {
        "colab": {
          "base_uri": "https://localhost:8080/",
          "height": 208
        },
        "id": "rKNakSU5mkER",
        "outputId": "a7dcd056-7f44-47ef-845b-8a0fae1f0524"
      },
      "execution_count": 29,
      "outputs": [
        {
          "output_type": "display_data",
          "data": {
            "text/plain": [
              "\n",
              "\tWelch Two Sample t-test\n",
              "\n",
              "data:  diet1_loss and diet3_loss\n",
              "t = -2.8462, df = 48.862, p-value = 0.00645\n",
              "alternative hypothesis: true difference in means is not equal to 0\n",
              "95 percent confidence interval:\n",
              " -3.1531357 -0.5431606\n",
              "sample estimates:\n",
              "mean of x mean of y \n",
              " 3.300000  5.148148 \n"
            ]
          },
          "metadata": {}
        }
      ]
    },
    {
      "cell_type": "code",
      "source": [
        ""
      ],
      "metadata": {
        "id": "oGEDcBevmmrk"
      },
      "execution_count": null,
      "outputs": []
    }
  ]
}